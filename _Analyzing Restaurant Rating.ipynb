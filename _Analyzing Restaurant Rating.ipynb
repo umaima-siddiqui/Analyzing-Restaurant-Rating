{
 "cells": [
  {
   "cell_type": "markdown",
   "id": "f738eca7-6c5f-4119-ab71-3feb42e22235",
   "metadata": {},
   "source": [
    "Analyzing Restaurant Rating"
   ]
  },
  {
   "cell_type": "markdown",
   "id": "c1746a10-d596-4a85-bceb-bd22ff8105e3",
   "metadata": {},
   "source": [
    "Objective\n",
    "\n",
    "The objective of analyzing this restaurant dataset is to gain insights into the characteristics and distribution of restaurants in Ciudad Victoria, Tamaulipas, Mexico. Specifically, the goals include:\n",
    "\n",
    "1. Location Analysis:\n",
    "   - Identify the geographical distribution of restaurants using latitude and longitude.\n",
    "   - Determine clusters of open and closed restaurants.\n",
    "\n",
    "2. Pricing Insights:\n",
    "   - Analyze the distribution of restaurants by price categories (Low, Medium, High).\n",
    "   - Explore how pricing correlates with other features such as `Parking`, `Smoking_Allowed`, and `Alcohol_Service`.\n",
    "\n",
    "3. Service and Amenities:\n",
    "   - Investigate how many restaurants allow smoking or serve alcohol.\n",
    "   - Examine the availability of parking and its relation to restaurant operations.\n",
    "\n",
    "4. Operational Insights:\n",
    "   - Analyze the status of restaurants (`Open` vs. `Closed`) and any patterns linked to location, pricing, or amenities.\n",
    "   - Explore the role of franchises in restaurant success (if applicable).\n",
    "\n",
    "5. Customer Segmentation:\n",
    "   - Understand restaurant offerings (e.g., price and amenities) to infer target demographics.\n",
    "\n",
    "6. Data Visualization:\n",
    "   - Use scatter plots, area charts, and other visualizations to highlight patterns and trends in the data.\n",
    "\n",
    "This analysis can provide actionable insights for stakeholders such as restaurant owners, city planners, and marketing professionals looking to enhance restaurant operations or open new establishments."
   ]
  },
  {
   "cell_type": "markdown",
   "id": "85f0b6d2-dd5c-4211-b834-8a4678195059",
   "metadata": {},
   "source": [
    "DATA READING"
   ]
  },
  {
   "cell_type": "code",
   "execution_count": 46,
   "id": "23d82573-3b24-4908-ba36-d471859d06c2",
   "metadata": {
    "scrolled": true
   },
   "outputs": [
    {
     "name": "stdout",
     "output_type": "stream",
     "text": [
      "Reading a file\n",
      "<class 'pandas.core.frame.DataFrame'>\n",
      "RangeIndex: 130 entries, 0 to 129\n",
      "Data columns (total 14 columns):\n",
      " #   Column           Non-Null Count  Dtype  \n",
      "---  ------           --------------  -----  \n",
      " 0   Restaurant_ID    130 non-null    int64  \n",
      " 1   Name             130 non-null    object \n",
      " 2   City             130 non-null    object \n",
      " 3   State            130 non-null    object \n",
      " 4   Country          130 non-null    object \n",
      " 5   Zip_Code         56 non-null     float64\n",
      " 6   Latitude         130 non-null    float64\n",
      " 7   Longitude        130 non-null    float64\n",
      " 8   Alcohol_Service  43 non-null     object \n",
      " 9   Smoking_Allowed  130 non-null    object \n",
      " 10  Price            130 non-null    object \n",
      " 11  Franchise        130 non-null    object \n",
      " 12  Area             130 non-null    object \n",
      " 13  Parking          65 non-null     object \n",
      "dtypes: float64(3), int64(1), object(10)\n",
      "memory usage: 14.3+ KB\n",
      "None\n"
     ]
    }
   ],
   "source": [
    "import pandas as pd\n",
    "file=\"C:/Users/umaim/Downloads/Restaurant_Ratings/restaurants.csv\"\n",
    "data=pd.read_csv(file) \n",
    "# print(data)\n",
    "print(\"Reading a file\")\n",
    "print(data.info())"
   ]
  },
  {
   "cell_type": "code",
   "execution_count": 127,
   "id": "105b8f9a-8c3d-4e5c-9280-f412b4b0d263",
   "metadata": {},
   "outputs": [
    {
     "name": "stdout",
     "output_type": "stream",
     "text": [
      "Describe a File\n",
      "                count unique              top freq\n",
      "Name              130    127             Vips    3\n",
      "City              130      4  San Luis Potosi   84\n",
      "State             130      3  San Luis Potosi   84\n",
      "Country           130      1           Mexico  130\n",
      "Alcohol_Service    43      2      Wine & Beer   34\n",
      "Smoking_Allowed   130      4               No   95\n",
      "Price             130      3           Medium   60\n",
      "Franchise         130      2               No  108\n",
      "Area              130      2           Closed  115\n",
      "Parking            65      3              Yes   46\n"
     ]
    }
   ],
   "source": [
    "print(\"Describe a File\")\n",
    "print(data.describe(include=object).T)"
   ]
  },
  {
   "cell_type": "code",
   "execution_count": 129,
   "id": "358bce39-b8b4-463c-aefc-6a4fcb86a547",
   "metadata": {},
   "outputs": [
    {
     "name": "stdout",
     "output_type": "stream",
     "text": [
      "Shape\n",
      "(130, 14)\n"
     ]
    }
   ],
   "source": [
    "print(\"Shape\")\n",
    "print(data.shape)"
   ]
  },
  {
   "cell_type": "markdown",
   "id": "eef5ac1b-5fbc-4b0a-b00b-b6ef83c4257c",
   "metadata": {},
   "source": [
    "DATA CLEANING"
   ]
  },
  {
   "cell_type": "code",
   "execution_count": 131,
   "id": "29986a33-e860-4a55-8687-c1e10a41ff29",
   "metadata": {},
   "outputs": [
    {
     "name": "stdout",
     "output_type": "stream",
     "text": [
      "Null Values in each column:\n",
      "Restaurant_ID       0\n",
      "Name                0\n",
      "City                0\n",
      "State               0\n",
      "Country             0\n",
      "Zip_Code           74\n",
      "Latitude            0\n",
      "Longitude           0\n",
      "Alcohol_Service    87\n",
      "Smoking_Allowed     0\n",
      "Price               0\n",
      "Franchise           0\n",
      "Area                0\n",
      "Parking            65\n",
      "dtype: int64\n"
     ]
    }
   ],
   "source": [
    "print(\"Null Values in each column:\")\n",
    "print(data.isnull().sum())"
   ]
  },
  {
   "cell_type": "code",
   "execution_count": 133,
   "id": "14c8810c-0924-487e-b80e-567b1a1434b0",
   "metadata": {},
   "outputs": [
    {
     "name": "stdout",
     "output_type": "stream",
     "text": [
      "<class 'pandas.core.frame.DataFrame'>\n",
      "RangeIndex: 130 entries, 0 to 129\n",
      "Data columns (total 14 columns):\n",
      " #   Column           Non-Null Count  Dtype  \n",
      "---  ------           --------------  -----  \n",
      " 0   Restaurant_ID    130 non-null    int64  \n",
      " 1   Name             130 non-null    object \n",
      " 2   City             130 non-null    object \n",
      " 3   State            130 non-null    object \n",
      " 4   Country          130 non-null    object \n",
      " 5   Zip_Code         56 non-null     float64\n",
      " 6   Latitude         130 non-null    float64\n",
      " 7   Longitude        130 non-null    float64\n",
      " 8   Alcohol_Service  43 non-null     object \n",
      " 9   Smoking_Allowed  130 non-null    object \n",
      " 10  Price            130 non-null    object \n",
      " 11  Franchise        130 non-null    object \n",
      " 12  Area             130 non-null    object \n",
      " 13  Parking          65 non-null     object \n",
      "dtypes: float64(3), int64(1), object(10)\n",
      "memory usage: 14.3+ KB\n",
      "Access File: None\n",
      "    Restaurant_ID             City\n",
      "2          132564  Ciudad Victoria\n",
      "3          132572  San Luis Potosi\n",
      "4          132583       Cuernavaca\n",
      "5          132584  Ciudad Victoria\n",
      "6          132594  Ciudad Victoria\n",
      "7          132608  Ciudad Victoria\n",
      "8          132609  Ciudad Victoria\n",
      "9          132613  Ciudad Victoria\n",
      "10         132626  Ciudad Victoria\n"
     ]
    }
   ],
   "source": [
    "print(\"Access File:\",data.info())\n",
    "\n",
    "print(data.loc[2:10,['Restaurant_ID','City']])"
   ]
  },
  {
   "cell_type": "code",
   "execution_count": 135,
   "id": "48f2da20-5fb2-4396-92bc-74838bc879b1",
   "metadata": {},
   "outputs": [
    {
     "name": "stdout",
     "output_type": "stream",
     "text": [
      "                                 Name Country\n",
      "2                            Church's  Mexico\n",
      "3                        Cafe Chaires  Mexico\n",
      "4                    McDonalds Centro  Mexico\n",
      "5                  Gorditas Doña Tota  Mexico\n",
      "6  Tacos De Barbacoa Enfrente Del Tec  Mexico\n",
      "7              Hamburguesas La Perica  Mexico\n",
      "8            Pollo Frito Buenos Aires  Mexico\n",
      "9                       Carnitas Mata  Mexico\n"
     ]
    }
   ],
   "source": [
    "print(data.iloc[2:10,[1,4]])"
   ]
  },
  {
   "cell_type": "code",
   "execution_count": 137,
   "id": "7c12090a-3bfb-4285-8eea-00ae226c62ba",
   "metadata": {},
   "outputs": [
    {
     "name": "stdout",
     "output_type": "stream",
     "text": [
      "\n",
      "After filling null values:\n",
      "Restaurant_ID       0\n",
      "Name                0\n",
      "City                0\n",
      "State               0\n",
      "Country             0\n",
      "Zip_Code            0\n",
      "Latitude            0\n",
      "Longitude           0\n",
      "Alcohol_Service    87\n",
      "Smoking_Allowed     0\n",
      "Price               0\n",
      "Franchise           0\n",
      "Area                0\n",
      "Parking            65\n",
      "dtype: int64\n"
     ]
    }
   ],
   "source": [
    "\n",
    "# Fill null values in the 'Close' column with the column's mean and assign it back\n",
    "data['Zip_Code'] = data['Zip_Code'].fillna(data['Zip_Code'].mean())\n",
    "\n",
    "# Or fill all columns with a default value (like 0)\n",
    "# data.fillna(0, inplace=True)\n",
    "\n",
    "# You can also use forward fill (using the previous row's value)\n",
    "# data.fillna(method='ffill', inplace=True)\n",
    "\n",
    "# Or backward fill (using the next row's value)\n",
    "# data.fillna(method='bfill', inplace=True)\n",
    "\n",
    "print(\"\\nAfter filling null values:\")\n",
    "print(data.isnull().sum()) "
   ]
  },
  {
   "cell_type": "code",
   "execution_count": 139,
   "id": "4519fad9-258e-47c4-8b3d-1f3e45c9058b",
   "metadata": {},
   "outputs": [
    {
     "name": "stdout",
     "output_type": "stream",
     "text": [
      "Index(['Consumer_ID', 'Restaurant_ID', 'Overall_Rating', 'Food_Rating',\n",
      "       'Service_Rating'],\n",
      "      dtype='object')\n",
      "0\n",
      "2\n",
      "0    2\n",
      "Name: Food_Rating, dtype: int64\n",
      "1.215331610680448\n",
      "0.7922942990574058\n",
      "  Consumer_ID  Restaurant_ID  Overall_Rating  Food_Rating  Service_Rating\n",
      "0       U1077         135085               2            2               2\n",
      "1       U1077         135038               2            2               1\n",
      "2       U1077         132825               2            2               2\n",
      "   Consumer_ID  Restaurant_ID  Overall_Rating  Food_Rating  Service_Rating\n",
      "5        U1068         132740               0            0               0\n",
      "7        U1068         132732               0            0               0\n",
      "12       U1067         132630               1            0               1\n"
     ]
    }
   ],
   "source": [
    "files=\"C:/Users/umaim/Downloads/Restaurant_Ratings/ratings.csv\"\n",
    "datas=pd.read_csv(files)\n",
    "print(datas.columns)\n",
    "print(datas['Food_Rating'].min())\n",
    "print(datas['Food_Rating'].max())\n",
    "print(datas['Food_Rating'].mode())\n",
    "print(datas['Food_Rating'].mean())\n",
    "print(datas['Food_Rating'].std())\n",
    "print(datas.nlargest(3,'Food_Rating').head(5))\n",
    "print(datas.nsmallest(3,'Food_Rating'))"
   ]
  },
  {
   "cell_type": "code",
   "execution_count": 141,
   "id": "e5b58020-c369-4594-a7a3-4915754c3278",
   "metadata": {},
   "outputs": [
    {
     "name": "stdout",
     "output_type": "stream",
     "text": [
      "\n",
      "Checking for duplicate rows:\n",
      "0      False\n",
      "1      False\n",
      "2      False\n",
      "3      False\n",
      "4      False\n",
      "       ...  \n",
      "125    False\n",
      "126    False\n",
      "127    False\n",
      "128    False\n",
      "129    False\n",
      "Length: 130, dtype: bool\n",
      "0\n"
     ]
    }
   ],
   "source": [
    "print(\"\\nChecking for duplicate rows:\")\n",
    "print(data.duplicated())  # This will show the number of duplicate rows\n",
    "\n",
    "print(data.duplicated().sum())  # This will show the number of duplicate rows"
   ]
  },
  {
   "cell_type": "code",
   "execution_count": 143,
   "id": "83d2a071-32a6-4c02-b908-4e1c72220bed",
   "metadata": {},
   "outputs": [
    {
     "name": "stdout",
     "output_type": "stream",
     "text": [
      "\n",
      "After dropping duplicates:\n",
      "(130, 14)\n"
     ]
    }
   ],
   "source": [
    "data.drop_duplicates(inplace=True)\n",
    "\n",
    "print(\"\\nAfter dropping duplicates:\")\n",
    "print(data.shape)  # Check the shape after removing duplicates"
   ]
  },
  {
   "cell_type": "code",
   "execution_count": 144,
   "id": "45ca7593-2ef3-41d0-9ccf-6aaaeaff3453",
   "metadata": {},
   "outputs": [
    {
     "name": "stdout",
     "output_type": "stream",
     "text": [
      "Remove Null Values\n",
      "<class 'pandas.core.frame.DataFrame'>\n",
      "Index: 28 entries, 21 to 126\n",
      "Data columns (total 14 columns):\n",
      " #   Column           Non-Null Count  Dtype  \n",
      "---  ------           --------------  -----  \n",
      " 0   Restaurant_ID    28 non-null     int64  \n",
      " 1   Name             28 non-null     object \n",
      " 2   City             28 non-null     object \n",
      " 3   State            28 non-null     object \n",
      " 4   Country          28 non-null     object \n",
      " 5   Zip_Code         28 non-null     float64\n",
      " 6   Latitude         28 non-null     float64\n",
      " 7   Longitude        28 non-null     float64\n",
      " 8   Alcohol_Service  28 non-null     object \n",
      " 9   Smoking_Allowed  28 non-null     object \n",
      " 10  Price            28 non-null     object \n",
      " 11  Franchise        28 non-null     object \n",
      " 12  Area             28 non-null     object \n",
      " 13  Parking          28 non-null     object \n",
      "dtypes: float64(3), int64(1), object(10)\n",
      "memory usage: 3.3+ KB\n",
      "None\n"
     ]
    }
   ],
   "source": [
    "print(\"Remove Null Values\")\n",
    "data.dropna(axis=0,inplace=True)\n",
    "print(data.info())"
   ]
  },
  {
   "cell_type": "code",
   "execution_count": 145,
   "id": "091f3066-5ba8-489f-a79a-79a82811d409",
   "metadata": {},
   "outputs": [
    {
     "name": "stdout",
     "output_type": "stream",
     "text": [
      "First five rows\n",
      "    Restaurant_ID                          Name             City  \\\n",
      "21         132723             Gordas De Morales  San Luis Potosi   \n",
      "27         132766                        Mikasa       Cuernavaca   \n",
      "28         132767  Restaurant Familiar El Chino         Jiutepec   \n",
      "38         132854                       Sirlone  San Luis Potosi   \n",
      "42         132862          La Posada Del Virrey  San Luis Potosi   \n",
      "\n",
      "              State Country      Zip_Code   Latitude   Longitude  \\\n",
      "21  San Luis Potosi  Mexico  75790.714286  22.148934 -101.019845   \n",
      "27          Morelos  Mexico  75790.714286  18.910178  -99.231544   \n",
      "28          Morelos  Mexico  75790.714286  18.882087  -99.163027   \n",
      "38  San Luis Potosi  Mexico  75790.714286  22.137863 -100.938327   \n",
      "42  San Luis Potosi  Mexico  75790.714286  22.150643 -100.987015   \n",
      "\n",
      "   Alcohol_Service  Smoking_Allowed   Price Franchise    Area Parking  \n",
      "21        Full Bar  Smoking Section  Medium        No  Closed  Public  \n",
      "27     Wine & Beer               No  Medium        No  Closed     Yes  \n",
      "28     Wine & Beer              Yes  Medium        No    Open     Yes  \n",
      "38     Wine & Beer               No  Medium        No  Closed     Yes  \n",
      "42     Wine & Beer               No    High        No  Closed   Valet  \n"
     ]
    }
   ],
   "source": [
    "print(\"First five rows\")\n",
    "print(data.head(5))"
   ]
  },
  {
   "cell_type": "code",
   "execution_count": 147,
   "id": "768a6680-2b8b-484f-b46b-200ad7e4794e",
   "metadata": {},
   "outputs": [
    {
     "name": "stdout",
     "output_type": "stream",
     "text": [
      "Last five rows\n",
      "     Restaurant_ID                               Name             City  \\\n",
      "113         135071             Restaurante La Cantina  San Luis Potosi   \n",
      "115         135073       Restaurante Bar El Gallinero  San Luis Potosi   \n",
      "116         135074  Restaurante La Parroquia Potosina  San Luis Potosi   \n",
      "118         135076          Restaurante Pueblo Bonito  San Luis Potosi   \n",
      "126         135104                               Vips  Ciudad Victoria   \n",
      "\n",
      "               State Country      Zip_Code   Latitude   Longitude  \\\n",
      "113  San Luis Potosi  Mexico  78396.000000  22.126375 -100.910926   \n",
      "115  San Luis Potosi  Mexico  78000.000000  22.147175 -100.974269   \n",
      "116  San Luis Potosi  Mexico  78000.000000  22.149689 -100.999525   \n",
      "118  San Luis Potosi  Mexico  78395.000000  22.181017 -100.973614   \n",
      "126       Tamaulipas  Mexico  75790.714286  23.752982  -99.168434   \n",
      "\n",
      "    Alcohol_Service  Smoking_Allowed   Price Franchise    Area Parking  \n",
      "113        Full Bar  Smoking Section  Medium        No  Closed     Yes  \n",
      "115     Wine & Beer  Smoking Section    High        No  Closed     Yes  \n",
      "116     Wine & Beer  Smoking Section    High        No  Closed  Public  \n",
      "118     Wine & Beer               No    High        No  Closed     Yes  \n",
      "126        Full Bar               No  Medium       Yes  Closed     Yes  \n"
     ]
    }
   ],
   "source": [
    "print(\"Last five rows\")\n",
    "last_five_rows = data.tail(5)\n",
    "print(last_five_rows)"
   ]
  },
  {
   "cell_type": "markdown",
   "id": "e4d11217-a807-4ad6-9407-706db8b3f248",
   "metadata": {},
   "source": [
    "DATA VISUALIZATION"
   ]
  },
  {
   "cell_type": "code",
   "execution_count": 25,
   "id": "29a9fbb8-2ef6-4b2d-b4da-a3877307a75a",
   "metadata": {},
   "outputs": [
    {
     "data": {
      "image/png": "[encoded data removed]",
      "text/plain": [
       "<Figure size 640x480 with 1 Axes>"
      ]
     },
     "metadata": {},
     "output_type": "display_data"
    }
   ],
   "source": [
    "# Pie Chart\n",
    "\n",
    "parking = [\"None\", \"Public\", \"Yes\"]\n",
    "colors = ['lightgreen', 'lightcoral', 'lightblue']\n",
    "\n",
    "plt.pie([123, 89,45 ],  # Example data percentages\n",
    "        labels=parking, \n",
    "        colors=colors, \n",
    "        autopct='%1.1f%%')\n",
    "\n",
    "plt.title(\"Parking Preferences\")\n",
    "plt.show()\n"
   ]
  },
  {
   "cell_type": "code",
   "execution_count": 52,
   "id": "6d79782c-b288-4779-b84b-21e54d57f240",
   "metadata": {},
   "outputs": [
    {
     "name": "stdout",
     "output_type": "stream",
     "text": [
      "<class 'pandas.core.frame.DataFrame'>\n"
     ]
    },
    {
     "data": {
      "text/plain": [
       "<Figure size 1000x600 with 0 Axes>"
      ]
     },
     "metadata": {},
     "output_type": "display_data"
    },
    {
     "data": {
      "image/png": "[encoded data removed]",
      "text/plain": [
       "<Figure size 640x480 with 1 Axes>"
      ]
     },
     "metadata": {},
     "output_type": "display_data"
    }
   ],
   "source": [
    "import pandas as pd\n",
    "import matplotlib.pyplot as plt\n",
    "\n",
    "# Read the data\n",
    "file = \"C:/Users/umaim/Downloads/Restaurant_Ratings/restaurants.csv\"\n",
    "data = pd.read_csv(file)\n",
    "\n",
    "# Check if the data is a DataFrame\n",
    "print(type(data))  # Should print: <class 'pandas.core.frame.DataFrame'>\n",
    "\n",
    "# Group the data by 'Area' and 'Price', and count occurrences\n",
    "line_data = data.groupby(['Area', 'Price']).size().unstack(fill_value=0)\n",
    "\n",
    "# Plot a stacked line chart\n",
    "plt.figure(figsize=(10, 6))\n",
    "line_data.plot(kind='line', stacked=True)\n",
    "\n",
    "# Add title and labels\n",
    "plt.title('Stacked Line Chart of Price Distribution by Area')\n",
    "plt.xlabel('Area')\n",
    "plt.ylabel('Count')\n",
    "\n",
    "# Show the plot\n",
    "plt.show()\n"
   ]
  },
  {
   "cell_type": "code",
   "execution_count": 53,
   "id": "8688732c-f79a-4c44-9f04-401b74354ead",
   "metadata": {},
   "outputs": [
    {
     "data": {
      "image/png": "[encoded data removed]",
      "text/plain": [
       "<Figure size 800x600 with 1 Axes>"
      ]
     },
     "metadata": {},
     "output_type": "display_data"
    }
   ],
   "source": [
    "# Count the number of restaurants by 'Area'\n",
    "area_counts = data['Area'].value_counts()\n",
    "\n",
    "# Plot a bar chart\n",
    "plt.figure(figsize=(8, 6))\n",
    "area_counts.plot(kind='bar', color=['#66b3ff', '#ff9999'], edgecolor='black')\n",
    "\n",
    "# Customize the chart\n",
    "plt.title('Distribution of Restaurants by Area', fontsize=14)\n",
    "plt.xlabel('Area', fontsize=12)\n",
    "plt.ylabel('Count of Restaurants', fontsize=12)\n",
    "plt.xticks(rotation=0, fontsize=10)\n",
    "plt.grid(axis='y', linestyle='--', alpha=0.7)\n",
    "\n",
    "# Show the chart\n",
    "plt.tight_layout()\n",
    "plt.show()\n"
   ]
  },
  {
   "cell_type": "code",
   "execution_count": 155,
   "id": "d75937fa-ebab-41cb-9814-7eacdc9e33af",
   "metadata": {},
   "outputs": [
    {
     "data": {
      "image/png": "[encoded data removed]",
      "text/plain": [
       "<Figure size 800x600 with 1 Axes>"
      ]
     },
     "metadata": {},
     "output_type": "display_data"
    }
   ],
   "source": [
    "# Count the number of restaurants by 'Price'\n",
    "price_counts = data['Price'].value_counts()\n",
    "\n",
    "# Plot a horizontal bar chart\n",
    "plt.figure(figsize=(8, 6))\n",
    "price_counts.plot(kind='barh', color=['#66b3ff', '#ff9999', '#99ff99'], edgecolor='black')\n",
    "\n",
    "# Customize the chart\n",
    "plt.title('Distribution of Restaurants by Price', fontsize=14)\n",
    "plt.xlabel('Number of Restaurants', fontsize=12)\n",
    "plt.ylabel('Price Category', fontsize=12)\n",
    "plt.grid(axis='x', linestyle='--', alpha=0.7)\n",
    "\n",
    "# Show the chart\n",
    "plt.tight_layout()\n",
    "plt.show()\n"
   ]
  },
  {
   "cell_type": "code",
   "execution_count": 158,
   "id": "4f2f1193-1970-4600-a0d3-b65a02967e51",
   "metadata": {},
   "outputs": [
    {
     "data": {
      "application/vnd.plotly.v1+json": {
       "config": {
        "plotlyServerURL": "https://plot.ly"
       },
       "data": [
        {
         "hole": 0.3,
         "labels": [
          "Wine & Beer",
          "Full Bar"
         ],
         "marker": {
          "colors": [
           "#66b3ff",
           "#ffb3e6",
           "#ff6666",
           "#ffcc99"
          ]
         },
         "textinfo": "percent+label",
         "type": "pie",
         "values": [
          22,
          6
         ]
        }
       ],
       "layout": {
        "autosize": true,
        "showlegend": true,
        "template": {
         "data": {
          "bar": [
           {
            "error_x": {
             "color": "#2a3f5f"
            },
            "error_y": {
             "color": "#2a3f5f"
            },
            "marker": {
             "line": {
              "color": "#E5ECF6",
              "width": 0.5
             },
             "pattern": {
              "fillmode": "overlay",
              "size": 10,
              "solidity": 0.2
             }
            },
            "type": "bar"
           }
          ],
          "barpolar": [
           {
            "marker": {
             "line": {
              "color": "#E5ECF6",
              "width": 0.5
             },
             "pattern": {
              "fillmode": "overlay",
              "size": 10,
              "solidity": 0.2
             }
            },
            "type": "barpolar"
           }
          ],
          "carpet": [
           {
            "aaxis": {
             "endlinecolor": "#2a3f5f",
             "gridcolor": "white",
             "linecolor": "white",
             "minorgridcolor": "white",
             "startlinecolor": "#2a3f5f"
            },
            "baxis": {
             "endlinecolor": "#2a3f5f",
             "gridcolor": "white",
             "linecolor": "white",
             "minorgridcolor": "white",
             "startlinecolor": "#2a3f5f"
            },
            "type": "carpet"
           }
          ],
          "choropleth": [
           {
            "colorbar": {
             "outlinewidth": 0,
             "ticks": ""
            },
            "type": "choropleth"
           }
          ],
          "contour": [
           {
            "colorbar": {
             "outlinewidth": 0,
             "ticks": ""
            },
            "colorscale": [
             [
              0,
              "#0d0887"
             ],
             [
              0.1111111111111111,
              "#46039f"
             ],
             [
              0.2222222222222222,
              "#7201a8"
             ],
             [
              0.3333333333333333,
              "#9c179e"
             ],
             [
              0.4444444444444444,
              "#bd3786"
             ],
             [
              0.5555555555555556,
              "#d8576b"
             ],
             [
              0.6666666666666666,
              "#ed7953"
             ],
             [
              0.7777777777777778,
              "#fb9f3a"
             ],
             [
              0.8888888888888888,
              "#fdca26"
             ],
             [
              1,
              "#f0f921"
             ]
            ],
            "type": "contour"
           }
          ],
          "contourcarpet": [
           {
            "colorbar": {
             "outlinewidth": 0,
             "ticks": ""
            },
            "type": "contourcarpet"
           }
          ],
          "heatmap": [
           {
            "colorbar": {
             "outlinewidth": 0,
             "ticks": ""
            },
            "colorscale": [
             [
              0,
              "#0d0887"
             ],
             [
              0.1111111111111111,
              "#46039f"
             ],
             [
              0.2222222222222222,
              "#7201a8"
             ],
             [
              0.3333333333333333,
              "#9c179e"
             ],
             [
              0.4444444444444444,
              "#bd3786"
             ],
             [
              0.5555555555555556,
              "#d8576b"
             ],
             [
              0.6666666666666666,
              "#ed7953"
             ],
             [
              0.7777777777777778,
              "#fb9f3a"
             ],
             [
              0.8888888888888888,
              "#fdca26"
             ],
             [
              1,
              "#f0f921"
             ]
            ],
            "type": "heatmap"
           }
          ],
          "heatmapgl": [
           {
            "colorbar": {
             "outlinewidth": 0,
             "ticks": ""
            },
            "colorscale": [
             [
              0,
              "#0d0887"
             ],
             [
              0.1111111111111111,
              "#46039f"
             ],
             [
              0.2222222222222222,
              "#7201a8"
             ],
             [
              0.3333333333333333,
              "#9c179e"
             ],
             [
              0.4444444444444444,
              "#bd3786"
             ],
             [
              0.5555555555555556,
              "#d8576b"
             ],
             [
              0.6666666666666666,
              "#ed7953"
             ],
             [
              0.7777777777777778,
              "#fb9f3a"
             ],
             [
              0.8888888888888888,
              "#fdca26"
             ],
             [
              1,
              "#f0f921"
             ]
            ],
            "type": "heatmapgl"
           }
          ],
          "histogram": [
           {
            "marker": {
             "pattern": {
              "fillmode": "overlay",
              "size": 10,
              "solidity": 0.2
             }
            },
            "type": "histogram"
           }
          ],
          "histogram2d": [
           {
            "colorbar": {
             "outlinewidth": 0,
             "ticks": ""
            },
            "colorscale": [
             [
              0,
              "#0d0887"
             ],
             [
              0.1111111111111111,
              "#46039f"
             ],
             [
              0.2222222222222222,
              "#7201a8"
             ],
             [
              0.3333333333333333,
              "#9c179e"
             ],
             [
              0.4444444444444444,
              "#bd3786"
             ],
             [
              0.5555555555555556,
              "#d8576b"
             ],
             [
              0.6666666666666666,
              "#ed7953"
             ],
             [
              0.7777777777777778,
              "#fb9f3a"
             ],
             [
              0.8888888888888888,
              "#fdca26"
             ],
             [
              1,
              "#f0f921"
             ]
            ],
            "type": "histogram2d"
           }
          ],
          "histogram2dcontour": [
           {
            "colorbar": {
             "outlinewidth": 0,
             "ticks": ""
            },
            "colorscale": [
             [
              0,
              "#0d0887"
             ],
             [
              0.1111111111111111,
              "#46039f"
             ],
             [
              0.2222222222222222,
              "#7201a8"
             ],
             [
              0.3333333333333333,
              "#9c179e"
             ],
             [
              0.4444444444444444,
              "#bd3786"
             ],
             [
              0.5555555555555556,
              "#d8576b"
             ],
             [
              0.6666666666666666,
              "#ed7953"
             ],
             [
              0.7777777777777778,
              "#fb9f3a"
             ],
             [
              0.8888888888888888,
              "#fdca26"
             ],
             [
              1,
              "#f0f921"
             ]
            ],
            "type": "histogram2dcontour"
           }
          ],
          "mesh3d": [
           {
            "colorbar": {
             "outlinewidth": 0,
             "ticks": ""
            },
            "type": "mesh3d"
           }
          ],
          "parcoords": [
           {
            "line": {
             "colorbar": {
              "outlinewidth": 0,
              "ticks": ""
             }
            },
            "type": "parcoords"
           }
          ],
          "pie": [
           {
            "automargin": true,
            "type": "pie"
           }
          ],
          "scatter": [
           {
            "fillpattern": {
             "fillmode": "overlay",
             "size": 10,
             "solidity": 0.2
            },
            "type": "scatter"
           }
          ],
          "scatter3d": [
           {
            "line": {
             "colorbar": {
              "outlinewidth": 0,
              "ticks": ""
             }
            },
            "marker": {
             "colorbar": {
              "outlinewidth": 0,
              "ticks": ""
             }
            },
            "type": "scatter3d"
           }
          ],
          "scattercarpet": [
           {
            "marker": {
             "colorbar": {
              "outlinewidth": 0,
              "ticks": ""
             }
            },
            "type": "scattercarpet"
           }
          ],
          "scattergeo": [
           {
            "marker": {
             "colorbar": {
              "outlinewidth": 0,
              "ticks": ""
             }
            },
            "type": "scattergeo"
           }
          ],
          "scattergl": [
           {
            "marker": {
             "colorbar": {
              "outlinewidth": 0,
              "ticks": ""
             }
            },
            "type": "scattergl"
           }
          ],
          "scattermapbox": [
           {
            "marker": {
             "colorbar": {
              "outlinewidth": 0,
              "ticks": ""
             }
            },
            "type": "scattermapbox"
           }
          ],
          "scatterpolar": [
           {
            "marker": {
             "colorbar": {
              "outlinewidth": 0,
              "ticks": ""
             }
            },
            "type": "scatterpolar"
           }
          ],
          "scatterpolargl": [
           {
            "marker": {
             "colorbar": {
              "outlinewidth": 0,
              "ticks": ""
             }
            },
            "type": "scatterpolargl"
           }
          ],
          "scatterternary": [
           {
            "marker": {
             "colorbar": {
              "outlinewidth": 0,
              "ticks": ""
             }
            },
            "type": "scatterternary"
           }
          ],
          "surface": [
           {
            "colorbar": {
             "outlinewidth": 0,
             "ticks": ""
            },
            "colorscale": [
             [
              0,
              "#0d0887"
             ],
             [
              0.1111111111111111,
              "#46039f"
             ],
             [
              0.2222222222222222,
              "#7201a8"
             ],
             [
              0.3333333333333333,
              "#9c179e"
             ],
             [
              0.4444444444444444,
              "#bd3786"
             ],
             [
              0.5555555555555556,
              "#d8576b"
             ],
             [
              0.6666666666666666,
              "#ed7953"
             ],
             [
              0.7777777777777778,
              "#fb9f3a"
             ],
             [
              0.8888888888888888,
              "#fdca26"
             ],
             [
              1,
              "#f0f921"
             ]
            ],
            "type": "surface"
           }
          ],
          "table": [
           {
            "cells": {
             "fill": {
              "color": "#EBF0F8"
             },
             "line": {
              "color": "white"
             }
            },
            "header": {
             "fill": {
              "color": "#C8D4E3"
             },
             "line": {
              "color": "white"
             }
            },
            "type": "table"
           }
          ]
         },
         "layout": {
          "annotationdefaults": {
           "arrowcolor": "#2a3f5f",
           "arrowhead": 0,
           "arrowwidth": 1
          },
          "autotypenumbers": "strict",
          "coloraxis": {
           "colorbar": {
            "outlinewidth": 0,
            "ticks": ""
           }
          },
          "colorscale": {
           "diverging": [
            [
             0,
             "#8e0152"
            ],
            [
             0.1,
             "#c51b7d"
            ],
            [
             0.2,
             "#de77ae"
            ],
            [
             0.3,
             "#f1b6da"
            ],
            [
             0.4,
             "#fde0ef"
            ],
            [
             0.5,
             "#f7f7f7"
            ],
            [
             0.6,
             "#e6f5d0"
            ],
            [
             0.7,
             "#b8e186"
            ],
            [
             0.8,
             "#7fbc41"
            ],
            [
             0.9,
             "#4d9221"
            ],
            [
             1,
             "#276419"
            ]
           ],
           "sequential": [
            [
             0,
             "#0d0887"
            ],
            [
             0.1111111111111111,
             "#46039f"
            ],
            [
             0.2222222222222222,
             "#7201a8"
            ],
            [
             0.3333333333333333,
             "#9c179e"
            ],
            [
             0.4444444444444444,
             "#bd3786"
            ],
            [
             0.5555555555555556,
             "#d8576b"
            ],
            [
             0.6666666666666666,
             "#ed7953"
            ],
            [
             0.7777777777777778,
             "#fb9f3a"
            ],
            [
             0.8888888888888888,
             "#fdca26"
            ],
            [
             1,
             "#f0f921"
            ]
           ],
           "sequentialminus": [
            [
             0,
             "#0d0887"
            ],
            [
             0.1111111111111111,
             "#46039f"
            ],
            [
             0.2222222222222222,
             "#7201a8"
            ],
            [
             0.3333333333333333,
             "#9c179e"
            ],
            [
             0.4444444444444444,
             "#bd3786"
            ],
            [
             0.5555555555555556,
             "#d8576b"
            ],
            [
             0.6666666666666666,
             "#ed7953"
            ],
            [
             0.7777777777777778,
             "#fb9f3a"
            ],
            [
             0.8888888888888888,
             "#fdca26"
            ],
            [
             1,
             "#f0f921"
            ]
           ]
          },
          "colorway": [
           "#636efa",
           "#EF553B",
           "#00cc96",
           "#ab63fa",
           "#FFA15A",
           "#19d3f3",
           "#FF6692",
           "#B6E880",
           "#FF97FF",
           "#FECB52"
          ],
          "font": {
           "color": "#2a3f5f"
          },
          "geo": {
           "bgcolor": "white",
           "lakecolor": "white",
           "landcolor": "#E5ECF6",
           "showlakes": true,
           "showland": true,
           "subunitcolor": "white"
          },
          "hoverlabel": {
           "align": "left"
          },
          "hovermode": "closest",
          "mapbox": {
           "style": "light"
          },
          "paper_bgcolor": "white",
          "plot_bgcolor": "#E5ECF6",
          "polar": {
           "angularaxis": {
            "gridcolor": "white",
            "linecolor": "white",
            "ticks": ""
           },
           "bgcolor": "#E5ECF6",
           "radialaxis": {
            "gridcolor": "white",
            "linecolor": "white",
            "ticks": ""
           }
          },
          "scene": {
           "xaxis": {
            "backgroundcolor": "#E5ECF6",
            "gridcolor": "white",
            "gridwidth": 2,
            "linecolor": "white",
            "showbackground": true,
            "ticks": "",
            "zerolinecolor": "white"
           },
           "yaxis": {
            "backgroundcolor": "#E5ECF6",
            "gridcolor": "white",
            "gridwidth": 2,
            "linecolor": "white",
            "showbackground": true,
            "ticks": "",
            "zerolinecolor": "white"
           },
           "zaxis": {
            "backgroundcolor": "#E5ECF6",
            "gridcolor": "white",
            "gridwidth": 2,
            "linecolor": "white",
            "showbackground": true,
            "ticks": "",
            "zerolinecolor": "white"
           }
          },
          "shapedefaults": {
           "line": {
            "color": "#2a3f5f"
           }
          },
          "ternary": {
           "aaxis": {
            "gridcolor": "white",
            "linecolor": "white",
            "ticks": ""
           },
           "baxis": {
            "gridcolor": "white",
            "linecolor": "white",
            "ticks": ""
           },
           "bgcolor": "#E5ECF6",
           "caxis": {
            "gridcolor": "white",
            "linecolor": "white",
            "ticks": ""
           }
          },
          "title": {
           "x": 0.05
          },
          "xaxis": {
           "automargin": true,
           "gridcolor": "white",
           "linecolor": "white",
           "ticks": "",
           "title": {
            "standoff": 15
           },
           "zerolinecolor": "white",
           "zerolinewidth": 2
          },
          "yaxis": {
           "automargin": true,
           "gridcolor": "white",
           "linecolor": "white",
           "ticks": "",
           "title": {
            "standoff": 15
           },
           "zerolinecolor": "white",
           "zerolinewidth": 2
          }
         }
        },
        "title": {
         "text": "Distribution of Alcohol Service in Restaurants"
        }
       }
      },
      "image/png": "[encoded data removed]",
      "text/html": [
       "<div>                            <div id=\"1beefbc5-c531-43bf-9a49-f62c572a597c\" class=\"plotly-graph-div\" style=\"height:525px; width:100%;\"></div>            <script type=\"text/javascript\">                require([\"plotly\"], function(Plotly) {                    window.PLOTLYENV=window.PLOTLYENV || {};                                    if (document.getElementById(\"1beefbc5-c531-43bf-9a49-f62c572a597c\")) {                    Plotly.newPlot(                        \"1beefbc5-c531-43bf-9a49-f62c572a597c\",                        [{\"hole\":0.3,\"labels\":[\"Wine & Beer\",\"Full Bar\"],\"marker\":{\"colors\":[\"#66b3ff\",\"#ffb3e6\",\"#ff6666\",\"#ffcc99\"]},\"textinfo\":\"percent+label\",\"values\":[22,6],\"type\":\"pie\"}],                        {\"template\":{\"data\":{\"histogram2dcontour\":[{\"type\":\"histogram2dcontour\",\"colorbar\":{\"outlinewidth\":0,\"ticks\":\"\"},\"colorscale\":[[0.0,\"#0d0887\"],[0.1111111111111111,\"#46039f\"],[0.2222222222222222,\"#7201a8\"],[0.3333333333333333,\"#9c179e\"],[0.4444444444444444,\"#bd3786\"],[0.5555555555555556,\"#d8576b\"],[0.6666666666666666,\"#ed7953\"],[0.7777777777777778,\"#fb9f3a\"],[0.8888888888888888,\"#fdca26\"],[1.0,\"#f0f921\"]]}],\"choropleth\":[{\"type\":\"choropleth\",\"colorbar\":{\"outlinewidth\":0,\"ticks\":\"\"}}],\"histogram2d\":[{\"type\":\"histogram2d\",\"colorbar\":{\"outlinewidth\":0,\"ticks\":\"\"},\"colorscale\":[[0.0,\"#0d0887\"],[0.1111111111111111,\"#46039f\"],[0.2222222222222222,\"#7201a8\"],[0.3333333333333333,\"#9c179e\"],[0.4444444444444444,\"#bd3786\"],[0.5555555555555556,\"#d8576b\"],[0.6666666666666666,\"#ed7953\"],[0.7777777777777778,\"#fb9f3a\"],[0.8888888888888888,\"#fdca26\"],[1.0,\"#f0f921\"]]}],\"heatmap\":[{\"type\":\"heatmap\",\"colorbar\":{\"outlinewidth\":0,\"ticks\":\"\"},\"colorscale\":[[0.0,\"#0d0887\"],[0.1111111111111111,\"#46039f\"],[0.2222222222222222,\"#7201a8\"],[0.3333333333333333,\"#9c179e\"],[0.4444444444444444,\"#bd3786\"],[0.5555555555555556,\"#d8576b\"],[0.6666666666666666,\"#ed7953\"],[0.7777777777777778,\"#fb9f3a\"],[0.8888888888888888,\"#fdca26\"],[1.0,\"#f0f921\"]]}],\"heatmapgl\":[{\"type\":\"heatmapgl\",\"colorbar\":{\"outlinewidth\":0,\"ticks\":\"\"},\"colorscale\":[[0.0,\"#0d0887\"],[0.1111111111111111,\"#46039f\"],[0.2222222222222222,\"#7201a8\"],[0.3333333333333333,\"#9c179e\"],[0.4444444444444444,\"#bd3786\"],[0.5555555555555556,\"#d8576b\"],[0.6666666666666666,\"#ed7953\"],[0.7777777777777778,\"#fb9f3a\"],[0.8888888888888888,\"#fdca26\"],[1.0,\"#f0f921\"]]}],\"contourcarpet\":[{\"type\":\"contourcarpet\",\"colorbar\":{\"outlinewidth\":0,\"ticks\":\"\"}}],\"contour\":[{\"type\":\"contour\",\"colorbar\":{\"outlinewidth\":0,\"ticks\":\"\"},\"colorscale\":[[0.0,\"#0d0887\"],[0.1111111111111111,\"#46039f\"],[0.2222222222222222,\"#7201a8\"],[0.3333333333333333,\"#9c179e\"],[0.4444444444444444,\"#bd3786\"],[0.5555555555555556,\"#d8576b\"],[0.6666666666666666,\"#ed7953\"],[0.7777777777777778,\"#fb9f3a\"],[0.8888888888888888,\"#fdca26\"],[1.0,\"#f0f921\"]]}],\"surface\":[{\"type\":\"surface\",\"colorbar\":{\"outlinewidth\":0,\"ticks\":\"\"},\"colorscale\":[[0.0,\"#0d0887\"],[0.1111111111111111,\"#46039f\"],[0.2222222222222222,\"#7201a8\"],[0.3333333333333333,\"#9c179e\"],[0.4444444444444444,\"#bd3786\"],[0.5555555555555556,\"#d8576b\"],[0.6666666666666666,\"#ed7953\"],[0.7777777777777778,\"#fb9f3a\"],[0.8888888888888888,\"#fdca26\"],[1.0,\"#f0f921\"]]}],\"mesh3d\":[{\"type\":\"mesh3d\",\"colorbar\":{\"outlinewidth\":0,\"ticks\":\"\"}}],\"scatter\":[{\"fillpattern\":{\"fillmode\":\"overlay\",\"size\":10,\"solidity\":0.2},\"type\":\"scatter\"}],\"parcoords\":[{\"type\":\"parcoords\",\"line\":{\"colorbar\":{\"outlinewidth\":0,\"ticks\":\"\"}}}],\"scatterpolargl\":[{\"type\":\"scatterpolargl\",\"marker\":{\"colorbar\":{\"outlinewidth\":0,\"ticks\":\"\"}}}],\"bar\":[{\"error_x\":{\"color\":\"#2a3f5f\"},\"error_y\":{\"color\":\"#2a3f5f\"},\"marker\":{\"line\":{\"color\":\"#E5ECF6\",\"width\":0.5},\"pattern\":{\"fillmode\":\"overlay\",\"size\":10,\"solidity\":0.2}},\"type\":\"bar\"}],\"scattergeo\":[{\"type\":\"scattergeo\",\"marker\":{\"colorbar\":{\"outlinewidth\":0,\"ticks\":\"\"}}}],\"scatterpolar\":[{\"type\":\"scatterpolar\",\"marker\":{\"colorbar\":{\"outlinewidth\":0,\"ticks\":\"\"}}}],\"histogram\":[{\"marker\":{\"pattern\":{\"fillmode\":\"overlay\",\"size\":10,\"solidity\":0.2}},\"type\":\"histogram\"}],\"scattergl\":[{\"type\":\"scattergl\",\"marker\":{\"colorbar\":{\"outlinewidth\":0,\"ticks\":\"\"}}}],\"scatter3d\":[{\"type\":\"scatter3d\",\"line\":{\"colorbar\":{\"outlinewidth\":0,\"ticks\":\"\"}},\"marker\":{\"colorbar\":{\"outlinewidth\":0,\"ticks\":\"\"}}}],\"scattermapbox\":[{\"type\":\"scattermapbox\",\"marker\":{\"colorbar\":{\"outlinewidth\":0,\"ticks\":\"\"}}}],\"scatterternary\":[{\"type\":\"scatterternary\",\"marker\":{\"colorbar\":{\"outlinewidth\":0,\"ticks\":\"\"}}}],\"scattercarpet\":[{\"type\":\"scattercarpet\",\"marker\":{\"colorbar\":{\"outlinewidth\":0,\"ticks\":\"\"}}}],\"carpet\":[{\"aaxis\":{\"endlinecolor\":\"#2a3f5f\",\"gridcolor\":\"white\",\"linecolor\":\"white\",\"minorgridcolor\":\"white\",\"startlinecolor\":\"#2a3f5f\"},\"baxis\":{\"endlinecolor\":\"#2a3f5f\",\"gridcolor\":\"white\",\"linecolor\":\"white\",\"minorgridcolor\":\"white\",\"startlinecolor\":\"#2a3f5f\"},\"type\":\"carpet\"}],\"table\":[{\"cells\":{\"fill\":{\"color\":\"#EBF0F8\"},\"line\":{\"color\":\"white\"}},\"header\":{\"fill\":{\"color\":\"#C8D4E3\"},\"line\":{\"color\":\"white\"}},\"type\":\"table\"}],\"barpolar\":[{\"marker\":{\"line\":{\"color\":\"#E5ECF6\",\"width\":0.5},\"pattern\":{\"fillmode\":\"overlay\",\"size\":10,\"solidity\":0.2}},\"type\":\"barpolar\"}],\"pie\":[{\"automargin\":true,\"type\":\"pie\"}]},\"layout\":{\"autotypenumbers\":\"strict\",\"colorway\":[\"#636efa\",\"#EF553B\",\"#00cc96\",\"#ab63fa\",\"#FFA15A\",\"#19d3f3\",\"#FF6692\",\"#B6E880\",\"#FF97FF\",\"#FECB52\"],\"font\":{\"color\":\"#2a3f5f\"},\"hovermode\":\"closest\",\"hoverlabel\":{\"align\":\"left\"},\"paper_bgcolor\":\"white\",\"plot_bgcolor\":\"#E5ECF6\",\"polar\":{\"bgcolor\":\"#E5ECF6\",\"angularaxis\":{\"gridcolor\":\"white\",\"linecolor\":\"white\",\"ticks\":\"\"},\"radialaxis\":{\"gridcolor\":\"white\",\"linecolor\":\"white\",\"ticks\":\"\"}},\"ternary\":{\"bgcolor\":\"#E5ECF6\",\"aaxis\":{\"gridcolor\":\"white\",\"linecolor\":\"white\",\"ticks\":\"\"},\"baxis\":{\"gridcolor\":\"white\",\"linecolor\":\"white\",\"ticks\":\"\"},\"caxis\":{\"gridcolor\":\"white\",\"linecolor\":\"white\",\"ticks\":\"\"}},\"coloraxis\":{\"colorbar\":{\"outlinewidth\":0,\"ticks\":\"\"}},\"colorscale\":{\"sequential\":[[0.0,\"#0d0887\"],[0.1111111111111111,\"#46039f\"],[0.2222222222222222,\"#7201a8\"],[0.3333333333333333,\"#9c179e\"],[0.4444444444444444,\"#bd3786\"],[0.5555555555555556,\"#d8576b\"],[0.6666666666666666,\"#ed7953\"],[0.7777777777777778,\"#fb9f3a\"],[0.8888888888888888,\"#fdca26\"],[1.0,\"#f0f921\"]],\"sequentialminus\":[[0.0,\"#0d0887\"],[0.1111111111111111,\"#46039f\"],[0.2222222222222222,\"#7201a8\"],[0.3333333333333333,\"#9c179e\"],[0.4444444444444444,\"#bd3786\"],[0.5555555555555556,\"#d8576b\"],[0.6666666666666666,\"#ed7953\"],[0.7777777777777778,\"#fb9f3a\"],[0.8888888888888888,\"#fdca26\"],[1.0,\"#f0f921\"]],\"diverging\":[[0,\"#8e0152\"],[0.1,\"#c51b7d\"],[0.2,\"#de77ae\"],[0.3,\"#f1b6da\"],[0.4,\"#fde0ef\"],[0.5,\"#f7f7f7\"],[0.6,\"#e6f5d0\"],[0.7,\"#b8e186\"],[0.8,\"#7fbc41\"],[0.9,\"#4d9221\"],[1,\"#276419\"]]},\"xaxis\":{\"gridcolor\":\"white\",\"linecolor\":\"white\",\"ticks\":\"\",\"title\":{\"standoff\":15},\"zerolinecolor\":\"white\",\"automargin\":true,\"zerolinewidth\":2},\"yaxis\":{\"gridcolor\":\"white\",\"linecolor\":\"white\",\"ticks\":\"\",\"title\":{\"standoff\":15},\"zerolinecolor\":\"white\",\"automargin\":true,\"zerolinewidth\":2},\"scene\":{\"xaxis\":{\"backgroundcolor\":\"#E5ECF6\",\"gridcolor\":\"white\",\"linecolor\":\"white\",\"showbackground\":true,\"ticks\":\"\",\"zerolinecolor\":\"white\",\"gridwidth\":2},\"yaxis\":{\"backgroundcolor\":\"#E5ECF6\",\"gridcolor\":\"white\",\"linecolor\":\"white\",\"showbackground\":true,\"ticks\":\"\",\"zerolinecolor\":\"white\",\"gridwidth\":2},\"zaxis\":{\"backgroundcolor\":\"#E5ECF6\",\"gridcolor\":\"white\",\"linecolor\":\"white\",\"showbackground\":true,\"ticks\":\"\",\"zerolinecolor\":\"white\",\"gridwidth\":2}},\"shapedefaults\":{\"line\":{\"color\":\"#2a3f5f\"}},\"annotationdefaults\":{\"arrowcolor\":\"#2a3f5f\",\"arrowhead\":0,\"arrowwidth\":1},\"geo\":{\"bgcolor\":\"white\",\"landcolor\":\"#E5ECF6\",\"subunitcolor\":\"white\",\"showland\":true,\"showlakes\":true,\"lakecolor\":\"white\"},\"title\":{\"x\":0.05},\"mapbox\":{\"style\":\"light\"}}},\"title\":{\"text\":\"Distribution of Alcohol Service in Restaurants\"},\"showlegend\":true},                        {\"responsive\": true}                    ).then(function(){\n",
       "                            \n",
       "var gd = document.getElementById('1beefbc5-c531-43bf-9a49-f62c572a597c');\n",
       "var x = new MutationObserver(function (mutations, observer) {{\n",
       "        var display = window.getComputedStyle(gd).display;\n",
       "        if (!display || display === 'none') {{\n",
       "            console.log([gd, 'removed!']);\n",
       "            Plotly.purge(gd);\n",
       "            observer.disconnect();\n",
       "        }}\n",
       "}});\n",
       "\n",
       "// Listen for the removal of the full notebook cells\n",
       "var notebookContainer = gd.closest('#notebook-container');\n",
       "if (notebookContainer) {{\n",
       "    x.observe(notebookContainer, {childList: true});\n",
       "}}\n",
       "\n",
       "// Listen for the clearing of the current output cell\n",
       "var outputEl = gd.closest('.output');\n",
       "if (outputEl) {{\n",
       "    x.observe(outputEl, {childList: true});\n",
       "}}\n",
       "\n",
       "                        })                };                });            </script>        </div>"
      ]
     },
     "metadata": {},
     "output_type": "display_data"
    }
   ],
   "source": [
    "# Create a donut chart for the distribution of Alcohol_Service\n",
    "alcohol_service_count = data['Alcohol_Service'].value_counts()\n",
    "\n",
    "# Create the donut chart\n",
    "fig = go.Figure(go.Pie(\n",
    "    labels=alcohol_service_count.index,  # Labels are the unique values of Alcohol_Service\n",
    "    values=alcohol_service_count.values,  # Values are the count of each unique value\n",
    "    hole=0.3,  # This makes the pie chart a donut (hole size)\n",
    "    textinfo='percent+label',  # Show percentage and label\n",
    "    marker=dict(colors=['#66b3ff', '#ffb3e6', '#ff6666', '#ffcc99']),  # Customize colors\n",
    "))\n",
    "\n",
    "# Update the layout with a title\n",
    "fig.update_layout(\n",
    "    title=\"Distribution of Alcohol Service in Restaurants\",\n",
    "    showlegend=True  # Show legend\n",
    ")\n",
    "\n",
    "# Show the chart\n",
    "fig.show()\n"
   ]
  },
  {
   "cell_type": "code",
   "execution_count": 176,
   "id": "bce8565f-6e09-4ac9-9fcd-0d3883639ec8",
   "metadata": {},
   "outputs": [
    {
     "data": {
      "image/png": "[encoded data removed]",
      "text/plain": [
       "<Figure size 800x600 with 1 Axes>"
      ]
     },
     "metadata": {},
     "output_type": "display_data"
    }
   ],
   "source": [
    "# Count the number of restaurants for each price category\n",
    "price_counts = data['Price'].value_counts()\n",
    "\n",
    "# Create the line chart\n",
    "plt.figure(figsize=(8, 6))\n",
    "plt.plot(price_counts.index, price_counts.values, marker='o', linestyle='-', color='blue')\n",
    "\n",
    "# Add titles and labels\n",
    "plt.title('Number of Restaurants by Price Category', fontsize=16)\n",
    "plt.xlabel('Price Category', fontsize=12)\n",
    "plt.ylabel('Number of Restaurants', fontsize=12)\n",
    "plt.grid(True)\n",
    "\n",
    "# Show the chart\n",
    "plt.show()\n"
   ]
  },
  {
   "cell_type": "code",
   "execution_count": 180,
   "id": "63ef46f3-6a1e-482d-bb7b-93a44cb5ebb7",
   "metadata": {
    "scrolled": true
   },
   "outputs": [
    {
     "data": {
      "image/png": "[encoded data removed]",
      "text/plain": [
       "<Figure size 800x600 with 1 Axes>"
      ]
     },
     "metadata": {},
     "output_type": "display_data"
    }
   ],
   "source": [
    "# Count the number of restaurants for each price category\n",
    "price_counts = data['Price'].value_counts()\n",
    "\n",
    "# Sort categories if needed\n",
    "price_counts = price_counts.reindex(['Low', 'Medium', 'High'], fill_value=0)\n",
    "\n",
    "# Create the area chart\n",
    "plt.figure(figsize=(8, 6))\n",
    "plt.fill_between(price_counts.index, price_counts.values, color='skyblue', alpha=0.5)\n",
    "plt.plot(price_counts.index, price_counts.values, marker='o', color='blue')\n",
    "\n",
    "# Add titles and labels\n",
    "plt.title('Number of Restaurants by Price Category', fontsize=16)\n",
    "plt.xlabel('Price Category', fontsize=12)\n",
    "plt.ylabel('Number of Restaurants', fontsize=12)\n",
    "plt.grid(True, linestyle='--', alpha=0.7)\n",
    "\n",
    "# Show the chart\n",
    "plt.show()\n"
   ]
  },
  {
   "cell_type": "code",
   "execution_count": null,
   "id": "958926a0-4028-44a6-a21f-296bbfd6a52d",
   "metadata": {},
   "outputs": [],
   "source": [
    "Conclusion:\n",
    "\r\n",
    "The Restaurant Rating Dashboard provides valuable insights into customer preferences, restaurant performance, and areas for improvement. Key findings include\n",
    ":\r\n",
    "1.\tTop Performers: Restaurants like Tortas Locas Hipoca and Gorditas Doña Gloria consistently deliver high-quality food and service, resulting in strong overall ratings and customer loyalt\n",
    "\ty2\r\n",
    "2.\tFocus Areas: Restaurants with lower ratings in service or food, such as Vips, need immediate attention to improve customer satisfaction and competitivene\n",
    "\ts3.\r\n",
    "3.\tParking's Impact: The availability of private parking significantly influences customer choices, highlighting the importance of convenience in dining decisi\n",
    "\to4s.\r\n",
    "4.\tBalanced Performance: The strongest performers excel in both food and service quality, emphasizing the need for a well-rounded approach to meeting customer expectat\n",
    "i5ns.\r\n",
    "5.\tActionable Insights: Underperforming restaurants can benefit from enhancing their food quality, providing better service, and addressing operational gaps to attract and retain more cust\n",
    "\tomers.\r\n",
    "Final :Thought\r\n",
    "By leveraging these insights, restaurants can build strategies to enhance customer experiences, drive higher ratings, and achieve long-term growth in a competitive market.\r\n"
   ]
  }
 ],
 "metadata": {
  "kernelspec": {
   "display_name": "Python 3 (ipykernel)",
   "language": "python",
   "name": "python3"
  },
  "language_info": {
   "codemirror_mode": {
    "name": "ipython",
    "version": 3
   },
   "file_extension": ".py",
   "mimetype": "text/x-python",
   "name": "python",
   "nbconvert_exporter": "python",
   "pygments_lexer": "ipython3",
   "version": "3.12.4"
  }
 },
 "nbformat": 4,
 "nbformat_minor": 5
}
